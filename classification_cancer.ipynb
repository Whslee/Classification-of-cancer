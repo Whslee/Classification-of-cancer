{
  "nbformat": 4,
  "nbformat_minor": 0,
  "metadata": {
    "colab": {
      "provenance": [],
      "gpuType": "T4"
    },
    "kernelspec": {
      "name": "python3",
      "display_name": "Python 3"
    },
    "language_info": {
      "name": "python"
    },
    "accelerator": "GPU"
  },
  "cells": [
    {
      "cell_type": "code",
      "source": [
        "import numpy as np\n",
        "import pandas as pd\n",
        "from sklearn.preprocessing import LabelEncoder, OrdinalEncoder\n",
        "from sklearn.model_selection import train_test_split\n",
        "import xgboost as xgb\n",
        "import string\n",
        "import itertools"
      ],
      "metadata": {
        "id": "G41tjv6i6QQf"
      },
      "execution_count": 31,
      "outputs": []
    },
    {
      "cell_type": "code",
      "source": [
        "alphabet1, alphabet2 = list(string.ascii_uppercase), list(string.ascii_uppercase)\n",
        "combination = ['WT']\n",
        "for a1 in alphabet1:\n",
        "    for a2 in alphabet2:\n",
        "        if a1+a2 != 'WT':\n",
        "            combination.append(a1+a2)"
      ],
      "metadata": {
        "id": "eCHqzplC6SxQ"
      },
      "execution_count": 32,
      "outputs": []
    },
    {
      "cell_type": "code",
      "source": [
        "# 데이터 로드\n",
        "train = pd.read_csv(\"/content/train.csv\", header=0)\n",
        "test = pd.read_csv(\"/content/test.csv\", header=0)\n",
        "\n",
        "# SUBCLASS 라벨 인코딩\n",
        "le_subclass = LabelEncoder()\n",
        "train['SUBCLASS'] = le_subclass.fit_transform(train['SUBCLASS'])\n",
        "for i, label in enumerate(le_subclass.classes_):\n",
        "    print(f\"원래 레이블: {label}, 변환된 숫자: {i}\")\n",
        "\n",
        "X = train.drop(columns=['SUBCLASS', 'ID']).copy()\n",
        "y_subclass = train['SUBCLASS']\n",
        "\n",
        "\n",
        "# 훈련 데이터 전처리\n",
        "def preprocessing_train(element):\n",
        "    # 띄어쓰기로 분리되어있는 element는 리스트로 쪼개기\n",
        "    if isinstance(element, str) and ' ' in element:\n",
        "        element = element.split()\n",
        "\n",
        "    # 값이 한 개(문자열)인 경우\n",
        "    if isinstance(element, str):\n",
        "        if element[0] + element[-1] not in combination:\n",
        "            combination.append(element[0]+element[-1])  ## 알파벳이 아닌 * 와 같은 문자도 있었음\n",
        "        return np.where(element[0] == element[-1], 0, combination.index(element[0] + element[-1]))\n",
        "\n",
        "    # 값이 여러개(리스트)인 경우\n",
        "    # elif isinstance(element, list):\n",
        "    #     return [preprocessing_train(el).item() for el in element]\n",
        "\n",
        "    elif isinstance(element, list):\n",
        "         return preprocessing_train(element[1])\n",
        "\n",
        "\n",
        "# applymap으로 각 요소에 대해 함수 적용\n",
        "X_prep = X.applymap(preprocessing_train)\n",
        "\n",
        "# 변환된 데이터 확인\n",
        "print(X_prep)\n",
        "print('업데이트된 조합표')\n",
        "print(combination)\n",
        "X_prep.to_csv('preprocessing_data.csv')"
      ],
      "metadata": {
        "colab": {
          "base_uri": "https://localhost:8080/"
        },
        "id": "n2l5Q-px6UFM",
        "outputId": "2a27661c-f732-4317-9f74-c0435737df75"
      },
      "execution_count": 33,
      "outputs": [
        {
          "output_type": "stream",
          "name": "stdout",
          "text": [
            "원래 레이블: ACC, 변환된 숫자: 0\n",
            "원래 레이블: BLCA, 변환된 숫자: 1\n",
            "원래 레이블: BRCA, 변환된 숫자: 2\n",
            "원래 레이블: CESC, 변환된 숫자: 3\n",
            "원래 레이블: COAD, 변환된 숫자: 4\n",
            "원래 레이블: DLBC, 변환된 숫자: 5\n",
            "원래 레이블: GBMLGG, 변환된 숫자: 6\n",
            "원래 레이블: HNSC, 변환된 숫자: 7\n",
            "원래 레이블: KIPAN, 변환된 숫자: 8\n",
            "원래 레이블: KIRC, 변환된 숫자: 9\n",
            "원래 레이블: LAML, 변환된 숫자: 10\n",
            "원래 레이블: LGG, 변환된 숫자: 11\n",
            "원래 레이블: LIHC, 변환된 숫자: 12\n",
            "원래 레이블: LUAD, 변환된 숫자: 13\n",
            "원래 레이블: LUSC, 변환된 숫자: 14\n",
            "원래 레이블: OV, 변환된 숫자: 15\n",
            "원래 레이블: PAAD, 변환된 숫자: 16\n",
            "원래 레이블: PCPG, 변환된 숫자: 17\n",
            "원래 레이블: PRAD, 변환된 숫자: 18\n",
            "원래 레이블: SARC, 변환된 숫자: 19\n",
            "원래 레이블: SKCM, 변환된 숫자: 20\n",
            "원래 레이블: STES, 변환된 숫자: 21\n",
            "원래 레이블: TGCT, 변환된 숫자: 22\n",
            "원래 레이블: THCA, 변환된 숫자: 23\n",
            "원래 레이블: THYM, 변환된 숫자: 24\n",
            "원래 레이블: UCEC, 변환된 숫자: 25\n",
            "      A2M  AAAS  AADAT  AARS1  ABAT  ABCA1  ABCA2  ABCA3  ABCA4  ABCA5  ...  \\\n",
            "0       0     0      0      0     0      0      0      0      0      0  ...   \n",
            "1       0     0      0      0     0      0      0      0      0      0  ...   \n",
            "2       0     0      0      0     0      0      0      0      0      0  ...   \n",
            "3       0     0      0      0     0      0      0      0      0      0  ...   \n",
            "4       0     0      0      0     0      0      0      0      0      0  ...   \n",
            "...   ...   ...    ...    ...   ...    ...    ...    ...    ...    ...  ...   \n",
            "6196    0     0      0      0     0      0      0      0      0      0  ...   \n",
            "6197    0     0      0      0     0      0      0      0      0      0  ...   \n",
            "6198    0     0      0      0     0      0      0      0      0      0  ...   \n",
            "6199    0     0      0      0     0      0      0      0      0      0  ...   \n",
            "6200    0     0      0      0     0      0      0      0      0      0  ...   \n",
            "\n",
            "      ZNF292  ZNF365  ZNF639  ZNF707  ZNFX1  ZNRF4  ZPBP  ZW10  ZWINT  ZYX  \n",
            "0          0       0       0       0      0      0     0     0      0    0  \n",
            "1          0       0       0       0      0      0     0     0      0    0  \n",
            "2          0       0       0       0      0      0     0     0      0    0  \n",
            "3          0       0       0       0      0      0     0     0      0    0  \n",
            "4          0       0       0       0      0      0     0     0      0    0  \n",
            "...      ...     ...     ...     ...    ...    ...   ...   ...    ...  ...  \n",
            "6196       0       0       0       0      0      0     0     0      0    0  \n",
            "6197       0       0       0       0      0      0     0     0      0    0  \n",
            "6198       0       0       0       0      0      0     0     0    513    0  \n",
            "6199       0       0       0       0      0      0     0     0      0    0  \n",
            "6200       0       0       0       0      0      0     0     0      0    0  \n",
            "\n",
            "[6201 rows x 4384 columns]\n",
            "업데이트된 조합표\n",
            "['WT', 'AA', 'AB', 'AC', 'AD', 'AE', 'AF', 'AG', 'AH', 'AI', 'AJ', 'AK', 'AL', 'AM', 'AN', 'AO', 'AP', 'AQ', 'AR', 'AS', 'AT', 'AU', 'AV', 'AW', 'AX', 'AY', 'AZ', 'BA', 'BB', 'BC', 'BD', 'BE', 'BF', 'BG', 'BH', 'BI', 'BJ', 'BK', 'BL', 'BM', 'BN', 'BO', 'BP', 'BQ', 'BR', 'BS', 'BT', 'BU', 'BV', 'BW', 'BX', 'BY', 'BZ', 'CA', 'CB', 'CC', 'CD', 'CE', 'CF', 'CG', 'CH', 'CI', 'CJ', 'CK', 'CL', 'CM', 'CN', 'CO', 'CP', 'CQ', 'CR', 'CS', 'CT', 'CU', 'CV', 'CW', 'CX', 'CY', 'CZ', 'DA', 'DB', 'DC', 'DD', 'DE', 'DF', 'DG', 'DH', 'DI', 'DJ', 'DK', 'DL', 'DM', 'DN', 'DO', 'DP', 'DQ', 'DR', 'DS', 'DT', 'DU', 'DV', 'DW', 'DX', 'DY', 'DZ', 'EA', 'EB', 'EC', 'ED', 'EE', 'EF', 'EG', 'EH', 'EI', 'EJ', 'EK', 'EL', 'EM', 'EN', 'EO', 'EP', 'EQ', 'ER', 'ES', 'ET', 'EU', 'EV', 'EW', 'EX', 'EY', 'EZ', 'FA', 'FB', 'FC', 'FD', 'FE', 'FF', 'FG', 'FH', 'FI', 'FJ', 'FK', 'FL', 'FM', 'FN', 'FO', 'FP', 'FQ', 'FR', 'FS', 'FT', 'FU', 'FV', 'FW', 'FX', 'FY', 'FZ', 'GA', 'GB', 'GC', 'GD', 'GE', 'GF', 'GG', 'GH', 'GI', 'GJ', 'GK', 'GL', 'GM', 'GN', 'GO', 'GP', 'GQ', 'GR', 'GS', 'GT', 'GU', 'GV', 'GW', 'GX', 'GY', 'GZ', 'HA', 'HB', 'HC', 'HD', 'HE', 'HF', 'HG', 'HH', 'HI', 'HJ', 'HK', 'HL', 'HM', 'HN', 'HO', 'HP', 'HQ', 'HR', 'HS', 'HT', 'HU', 'HV', 'HW', 'HX', 'HY', 'HZ', 'IA', 'IB', 'IC', 'ID', 'IE', 'IF', 'IG', 'IH', 'II', 'IJ', 'IK', 'IL', 'IM', 'IN', 'IO', 'IP', 'IQ', 'IR', 'IS', 'IT', 'IU', 'IV', 'IW', 'IX', 'IY', 'IZ', 'JA', 'JB', 'JC', 'JD', 'JE', 'JF', 'JG', 'JH', 'JI', 'JJ', 'JK', 'JL', 'JM', 'JN', 'JO', 'JP', 'JQ', 'JR', 'JS', 'JT', 'JU', 'JV', 'JW', 'JX', 'JY', 'JZ', 'KA', 'KB', 'KC', 'KD', 'KE', 'KF', 'KG', 'KH', 'KI', 'KJ', 'KK', 'KL', 'KM', 'KN', 'KO', 'KP', 'KQ', 'KR', 'KS', 'KT', 'KU', 'KV', 'KW', 'KX', 'KY', 'KZ', 'LA', 'LB', 'LC', 'LD', 'LE', 'LF', 'LG', 'LH', 'LI', 'LJ', 'LK', 'LL', 'LM', 'LN', 'LO', 'LP', 'LQ', 'LR', 'LS', 'LT', 'LU', 'LV', 'LW', 'LX', 'LY', 'LZ', 'MA', 'MB', 'MC', 'MD', 'ME', 'MF', 'MG', 'MH', 'MI', 'MJ', 'MK', 'ML', 'MM', 'MN', 'MO', 'MP', 'MQ', 'MR', 'MS', 'MT', 'MU', 'MV', 'MW', 'MX', 'MY', 'MZ', 'NA', 'NB', 'NC', 'ND', 'NE', 'NF', 'NG', 'NH', 'NI', 'NJ', 'NK', 'NL', 'NM', 'NN', 'NO', 'NP', 'NQ', 'NR', 'NS', 'NT', 'NU', 'NV', 'NW', 'NX', 'NY', 'NZ', 'OA', 'OB', 'OC', 'OD', 'OE', 'OF', 'OG', 'OH', 'OI', 'OJ', 'OK', 'OL', 'OM', 'ON', 'OO', 'OP', 'OQ', 'OR', 'OS', 'OT', 'OU', 'OV', 'OW', 'OX', 'OY', 'OZ', 'PA', 'PB', 'PC', 'PD', 'PE', 'PF', 'PG', 'PH', 'PI', 'PJ', 'PK', 'PL', 'PM', 'PN', 'PO', 'PP', 'PQ', 'PR', 'PS', 'PT', 'PU', 'PV', 'PW', 'PX', 'PY', 'PZ', 'QA', 'QB', 'QC', 'QD', 'QE', 'QF', 'QG', 'QH', 'QI', 'QJ', 'QK', 'QL', 'QM', 'QN', 'QO', 'QP', 'QQ', 'QR', 'QS', 'QT', 'QU', 'QV', 'QW', 'QX', 'QY', 'QZ', 'RA', 'RB', 'RC', 'RD', 'RE', 'RF', 'RG', 'RH', 'RI', 'RJ', 'RK', 'RL', 'RM', 'RN', 'RO', 'RP', 'RQ', 'RR', 'RS', 'RT', 'RU', 'RV', 'RW', 'RX', 'RY', 'RZ', 'SA', 'SB', 'SC', 'SD', 'SE', 'SF', 'SG', 'SH', 'SI', 'SJ', 'SK', 'SL', 'SM', 'SN', 'SO', 'SP', 'SQ', 'SR', 'SS', 'ST', 'SU', 'SV', 'SW', 'SX', 'SY', 'SZ', 'TA', 'TB', 'TC', 'TD', 'TE', 'TF', 'TG', 'TH', 'TI', 'TJ', 'TK', 'TL', 'TM', 'TN', 'TO', 'TP', 'TQ', 'TR', 'TS', 'TT', 'TU', 'TV', 'TW', 'TX', 'TY', 'TZ', 'UA', 'UB', 'UC', 'UD', 'UE', 'UF', 'UG', 'UH', 'UI', 'UJ', 'UK', 'UL', 'UM', 'UN', 'UO', 'UP', 'UQ', 'UR', 'US', 'UT', 'UU', 'UV', 'UW', 'UX', 'UY', 'UZ', 'VA', 'VB', 'VC', 'VD', 'VE', 'VF', 'VG', 'VH', 'VI', 'VJ', 'VK', 'VL', 'VM', 'VN', 'VO', 'VP', 'VQ', 'VR', 'VS', 'VT', 'VU', 'VV', 'VW', 'VX', 'VY', 'VZ', 'WA', 'WB', 'WC', 'WD', 'WE', 'WF', 'WG', 'WH', 'WI', 'WJ', 'WK', 'WL', 'WM', 'WN', 'WO', 'WP', 'WQ', 'WR', 'WS', 'WU', 'WV', 'WW', 'WX', 'WY', 'WZ', 'XA', 'XB', 'XC', 'XD', 'XE', 'XF', 'XG', 'XH', 'XI', 'XJ', 'XK', 'XL', 'XM', 'XN', 'XO', 'XP', 'XQ', 'XR', 'XS', 'XT', 'XU', 'XV', 'XW', 'XX', 'XY', 'XZ', 'YA', 'YB', 'YC', 'YD', 'YE', 'YF', 'YG', 'YH', 'YI', 'YJ', 'YK', 'YL', 'YM', 'YN', 'YO', 'YP', 'YQ', 'YR', 'YS', 'YT', 'YU', 'YV', 'YW', 'YX', 'YY', 'YZ', 'ZA', 'ZB', 'ZC', 'ZD', 'ZE', 'ZF', 'ZG', 'ZH', 'ZI', 'ZJ', 'ZK', 'ZL', 'ZM', 'ZN', 'ZO', 'ZP', 'ZQ', 'ZR', 'ZS', 'ZT', 'ZU', 'ZV', 'ZW', 'ZX', 'ZY', 'ZZ', 'R*', 'S*', 'E*', 'Q*', 'W*', 'Qs', 'Gs', 'Es', 'Ls', 'G*', 'Ns', 'Ds', 'Fs', 'C*', 'Ys', 'Ks', 'Ps', 'Y*', 'Vs', 'K*', 'Is', '1L', 'L*', 'Rs', 'Ts', 'As', 'Ss', 'Ws', 'Hs', '1I', 'Cs', '**', '3P', '3R', 'Ms', '4K', '4Y', '3L', '4A', '8Y', '4S', '-s', '3*', '7*', '7L', '7S', '2S', '4L', '8R', '2N', '1S', '1*', '3W', '5*', '1V', '9C', '1F', '5H', 'F*', '2K', '8I', '3F', 'T*', '5L', '1K', '3H', '1R', '2L', 'Rl', '2*', '5S', '6V', '6L', '8*', '2E', '3I', '8L', '*s', '9Y', '1C', '2T', '8K', '5C', '6C', '2Q', '2V', '5W', '1N', '5Y', '8S', '9P', '5K', '1Y', '4N', '4*', '6*', '5F', '2R', '5M', '5I', '4F', '1A', '3V', '7C', '4l', '8T', '9L', '4I', '4V', '3K', '8C', '2D', '8E', '7D', '9F', '1W', '4W', '2Y', '3S', '2l', '6Y', '9R', '2W']\n"
          ]
        }
      ]
    },
    {
      "cell_type": "code",
      "source": [
        "X_train, X_val, y_train, y_val = train_test_split(X_prep, y_subclass, test_size=0.2, random_state=42)\n",
        "\n",
        "# XGBoost 모델 설정\n",
        "model = xgb.XGBClassifier(\n",
        "    n_estimators=1000,\n",
        "    learning_rate=0.1,\n",
        "    max_depth=7,\n",
        "    random_state=42,\n",
        "    eval_metric='mlogloss',\n",
        "    reg_lambda=15,\n",
        "    subsample=0.5,\n",
        "    colsample_bytree=0.5\n",
        ")\n",
        "\n",
        "# 검증 세트를 훈련 세트로 설정\n",
        "eval_set = [(X_val, y_val)]\n",
        "\n",
        "# 모델 학습\n",
        "model.fit(X_train, y_train, eval_set=eval_set, verbose=100)\n",
        "\n",
        "# 학습된 모델을 저장\n",
        "model_filename = './model_saved/xgboost_model.bin'\n",
        "model.save_model(model_filename)\n",
        "print(f\"모델이 {model_filename}에 저장되었습니다.\")"
      ],
      "metadata": {
        "colab": {
          "base_uri": "https://localhost:8080/"
        },
        "id": "bnjVVv5R6WpB",
        "outputId": "adb1c0a5-6457-4dfc-c593-3b5904352a7b"
      },
      "execution_count": null,
      "outputs": [
        {
          "output_type": "stream",
          "name": "stdout",
          "text": [
            "[0]\tvalidation_0-mlogloss:3.19005\n",
            "[100]\tvalidation_0-mlogloss:2.15833\n",
            "[200]\tvalidation_0-mlogloss:2.06650\n",
            "[300]\tvalidation_0-mlogloss:2.04025\n",
            "[400]\tvalidation_0-mlogloss:2.03263\n",
            "[500]\tvalidation_0-mlogloss:2.03787\n",
            "[600]\tvalidation_0-mlogloss:2.04665\n",
            "[700]\tvalidation_0-mlogloss:2.05637\n",
            "[800]\tvalidation_0-mlogloss:2.07306\n"
          ]
        }
      ]
    },
    {
      "cell_type": "code",
      "source": [
        "# 테스트 데이터 전처리\n",
        "def preprocessing_test(element):\n",
        "    # 띄어쓰기로 분리되어있는 element는 리스트로 쪼개기\n",
        "    if isinstance(element, str) and ' ' in element:\n",
        "        element = element.split()\n",
        "\n",
        "    # 값이 한 개(문자열)인 경우\n",
        "    if isinstance(element, str):\n",
        "        if element[0] + element[-1] not in combination:\n",
        "            combination.append(element[0] + element[-1])  ## 알파벳이 아닌 *와 같은 문자도 있었음\n",
        "        return np.where(element[0] == element[-1], 0, combination.index(element[0] + element[-1]))\n",
        "\n",
        "    # 값이 여러개(리스트)인 경우\n",
        "    # elif isinstance(element, list):\n",
        "    #     return [preprocessing_test(el).item() for el in element]\n",
        "\n",
        "    elif isinstance(element, list):\n",
        "         return preprocessing_test(element[0])\n",
        "\n",
        "# 테스트 데이터 전처리 적용\n",
        "test_X = test.drop(columns=['ID']).copy()\n",
        "X_encoded_test = test_X.applymap(preprocessing_test)\n",
        "\n",
        "# 예측\n",
        "predictions = model.predict(X_encoded_test)\n",
        "\n",
        "# 원래 레이블로 변환\n",
        "original_labels = le_subclass.inverse_transform(predictions)\n",
        "\n",
        "# 제출 파일\n",
        "submission = pd.read_csv(\"sample_submission.csv\")\n",
        "submission[\"SUBCLASS\"] = original_labels\n",
        "submission.to_csv('./submission_dump/XGBoost_submission.csv', encoding='UTF-8-sig', index=False)"
      ],
      "metadata": {
        "id": "WsAlm6wX6Y3A"
      },
      "execution_count": null,
      "outputs": []
    },
    {
      "cell_type": "code",
      "source": [],
      "metadata": {
        "id": "QplooXQZ6ajF"
      },
      "execution_count": null,
      "outputs": []
    }
  ]
}